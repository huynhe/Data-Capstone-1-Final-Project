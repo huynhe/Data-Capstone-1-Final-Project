{
 "cells": [
  {
   "cell_type": "code",
   "execution_count": 1,
   "metadata": {},
   "outputs": [],
   "source": [
    "import pandas as pd\n",
    "import numpy as np\n",
    "import matplotlib.pyplot as plt\n",
    "import seaborn as sns\n",
    "from sklearn.linear_model import LinearRegression\n",
    "from sklearn.metrics import mean_squared_error\n",
    "from sklearn.model_selection import train_test_split"
   ]
  },
  {
   "cell_type": "code",
   "execution_count": 2,
   "metadata": {
    "scrolled": true
   },
   "outputs": [
    {
     "name": "stderr",
     "output_type": "stream",
     "text": [
      "C:\\Users\\Eric\\Anaconda3\\lib\\site-packages\\numpy\\lib\\arraysetops.py:466: FutureWarning: elementwise comparison failed; returning scalar instead, but in the future will perform elementwise comparison\n",
      "  mask |= (ar1 == a)\n"
     ]
    }
   ],
   "source": [
    "# Import the final working data\n",
    "final_df = pd.read_csv('final_data.csv', index_col = 0)"
   ]
  },
  {
   "cell_type": "code",
   "execution_count": 3,
   "metadata": {},
   "outputs": [],
   "source": [
    "# Import the final test data\n",
    "final_test = pd.read_csv('final_test_data.csv',index_col = 0)"
   ]
  },
  {
   "cell_type": "code",
   "execution_count": 4,
   "metadata": {},
   "outputs": [],
   "source": [
    "# Try out the model with the grouped shops and grouped item categories \n",
    "# training_final_df = final_df[['year', 'month', 'Shop Group', 'Item Category Group', 'item_cnt_day']]\n",
    "# group_df = training_final_df.groupby(['year', 'month', 'Shop Group', 'Item Category Group'], as_index=False).sum()\n",
    "\n",
    "\n",
    "# Try out the model without the grouped shops (shop_id and grouped item_category_id)\n",
    "training_final_df = final_df[['year', 'month', 'shop_id', 'Item Category Group', 'item_cnt_day']]\n",
    "group_df = training_final_df.groupby(['year', 'month', 'shop_id', 'Item Category Group'], as_index=False).sum()\n",
    "\n",
    "\n",
    "# Try out the model without any groups (shop_id and item_category_id)\n",
    "# group_df = final_df.groupby(['year', 'month', 'shop_id', 'item_category_id'], as_index=False)[['item_cnt_day']].sum()\n",
    "\n",
    "\n",
    "# Try out the model with newly grouped item_ids (shop_id and grouped item_ids)\n",
    "# group_df = final_df.groupby(['year', 'month', 'shop_id', 'item_group'], as_index=False)[['item_cnt_day']].sum()\n",
    "\n",
    "# Taking the average of the months with grouped item_ids\n",
    "# year_df = final_df.groupby(['year', 'month', 'shop_id', 'item_group'], as_index=False)[['item_cnt_day']].sum()\n",
    "# group_df = year_df.groupby(['month', 'shop_id', 'item_group'], as_index=False)[['item_cnt_day']].mean()"
   ]
  },
  {
   "cell_type": "code",
   "execution_count": 5,
   "metadata": {
    "scrolled": true
   },
   "outputs": [
    {
     "data": {
      "text/html": [
       "<div>\n",
       "<style scoped>\n",
       "    .dataframe tbody tr th:only-of-type {\n",
       "        vertical-align: middle;\n",
       "    }\n",
       "\n",
       "    .dataframe tbody tr th {\n",
       "        vertical-align: top;\n",
       "    }\n",
       "\n",
       "    .dataframe thead th {\n",
       "        text-align: right;\n",
       "    }\n",
       "</style>\n",
       "<table border=\"1\" class=\"dataframe\">\n",
       "  <thead>\n",
       "    <tr style=\"text-align: right;\">\n",
       "      <th></th>\n",
       "      <th>year</th>\n",
       "      <th>month</th>\n",
       "      <th>shop_id</th>\n",
       "      <th>Item Category Group</th>\n",
       "      <th>item_cnt_day</th>\n",
       "    </tr>\n",
       "  </thead>\n",
       "  <tbody>\n",
       "    <tr>\n",
       "      <th>count</th>\n",
       "      <td>25611.000000</td>\n",
       "      <td>25611.000000</td>\n",
       "      <td>25611.000000</td>\n",
       "      <td>25611.000000</td>\n",
       "      <td>25611.000000</td>\n",
       "    </tr>\n",
       "    <tr>\n",
       "      <th>mean</th>\n",
       "      <td>2013.957128</td>\n",
       "      <td>6.249580</td>\n",
       "      <td>31.054820</td>\n",
       "      <td>27.080668</td>\n",
       "      <td>142.460974</td>\n",
       "    </tr>\n",
       "    <tr>\n",
       "      <th>std</th>\n",
       "      <td>0.786079</td>\n",
       "      <td>3.344298</td>\n",
       "      <td>17.238519</td>\n",
       "      <td>23.544164</td>\n",
       "      <td>214.138235</td>\n",
       "    </tr>\n",
       "    <tr>\n",
       "      <th>min</th>\n",
       "      <td>2013.000000</td>\n",
       "      <td>1.000000</td>\n",
       "      <td>0.000000</td>\n",
       "      <td>0.000000</td>\n",
       "      <td>-1.000000</td>\n",
       "    </tr>\n",
       "    <tr>\n",
       "      <th>25%</th>\n",
       "      <td>2013.000000</td>\n",
       "      <td>3.000000</td>\n",
       "      <td>16.000000</td>\n",
       "      <td>4.000000</td>\n",
       "      <td>33.000000</td>\n",
       "    </tr>\n",
       "    <tr>\n",
       "      <th>50%</th>\n",
       "      <td>2014.000000</td>\n",
       "      <td>6.000000</td>\n",
       "      <td>30.000000</td>\n",
       "      <td>23.000000</td>\n",
       "      <td>80.000000</td>\n",
       "    </tr>\n",
       "    <tr>\n",
       "      <th>75%</th>\n",
       "      <td>2015.000000</td>\n",
       "      <td>9.000000</td>\n",
       "      <td>46.000000</td>\n",
       "      <td>40.000000</td>\n",
       "      <td>165.000000</td>\n",
       "    </tr>\n",
       "    <tr>\n",
       "      <th>max</th>\n",
       "      <td>2015.000000</td>\n",
       "      <td>12.000000</td>\n",
       "      <td>59.000000</td>\n",
       "      <td>71.000000</td>\n",
       "      <td>5129.000000</td>\n",
       "    </tr>\n",
       "  </tbody>\n",
       "</table>\n",
       "</div>"
      ],
      "text/plain": [
       "               year         month       shop_id  Item Category Group  \\\n",
       "count  25611.000000  25611.000000  25611.000000         25611.000000   \n",
       "mean    2013.957128      6.249580     31.054820            27.080668   \n",
       "std        0.786079      3.344298     17.238519            23.544164   \n",
       "min     2013.000000      1.000000      0.000000             0.000000   \n",
       "25%     2013.000000      3.000000     16.000000             4.000000   \n",
       "50%     2014.000000      6.000000     30.000000            23.000000   \n",
       "75%     2015.000000      9.000000     46.000000            40.000000   \n",
       "max     2015.000000     12.000000     59.000000            71.000000   \n",
       "\n",
       "       item_cnt_day  \n",
       "count  25611.000000  \n",
       "mean     142.460974  \n",
       "std      214.138235  \n",
       "min       -1.000000  \n",
       "25%       33.000000  \n",
       "50%       80.000000  \n",
       "75%      165.000000  \n",
       "max     5129.000000  "
      ]
     },
     "execution_count": 5,
     "metadata": {},
     "output_type": "execute_result"
    }
   ],
   "source": [
    "group_df.describe()"
   ]
  },
  {
   "cell_type": "code",
   "execution_count": 6,
   "metadata": {},
   "outputs": [],
   "source": [
    "# Split the data into X (variables) and y (target)\n",
    "X = group_df.drop('item_cnt_day', axis=1)\n",
    "y = group_df['item_cnt_day']\n",
    "\n",
    "# Create the dummy variables and remove the original column from the X data\n",
    "for col in X.columns:\n",
    "    group_dummies = pd.get_dummies(X[col]).rename(columns=lambda x: col + str(x))\n",
    "    X = X.join(group_dummies)\n",
    "    del X[col]"
   ]
  },
  {
   "cell_type": "code",
   "execution_count": 63,
   "metadata": {},
   "outputs": [],
   "source": [
    "# Split the data into training and test sets\n",
    "X_train, X_test, y_train, y_test = train_test_split(X, y, test_size=0.2, \n",
    "                                                    random_state=21, stratify=group_df['month'])"
   ]
  },
  {
   "cell_type": "code",
   "execution_count": 64,
   "metadata": {},
   "outputs": [],
   "source": [
    "# Create a baseline at Jul. 2014\n",
    "baseline_jul = group_df[(group_df['year'] == 2014) & (group_df['month'] == 7)].copy()\n",
    "\n",
    "# Create another baseline for just July\n",
    "# baseline_jul = group_df[group_df['month'] == 7].copy()\n",
    "\n",
    "# Split the baseline data into X and y components\n",
    "baselineX = baseline_jul.drop('item_cnt_day', axis=1)\n",
    "baseliney = baseline_jul['item_cnt_day']\n",
    "\n",
    "# Create the dummy variables and remove the original column from the baseline X data\n",
    "for col in baselineX.columns:\n",
    "    group_dummies = pd.get_dummies(baselineX[col]).rename(columns=lambda x: col + str(x))\n",
    "    baselineX = baselineX.join(group_dummies)\n",
    "    del baselineX[col]\n",
    "    \n",
    "# Add columns to the baseline data to use for prediction\n",
    "for i in X_train:\n",
    "    if i not in baselineX:\n",
    "        baselineX[i] = 0\n",
    "        \n",
    "# Rearrange the columns\n",
    "baselineX = baselineX[X_train.columns]"
   ]
  },
  {
   "cell_type": "code",
   "execution_count": 65,
   "metadata": {},
   "outputs": [
    {
     "data": {
      "text/plain": [
       "LinearRegression(copy_X=True, fit_intercept=True, n_jobs=1, normalize=False)"
      ]
     },
     "execution_count": 65,
     "metadata": {},
     "output_type": "execute_result"
    }
   ],
   "source": [
    "# Initialze and fit the linear regression model\n",
    "trained_linreg = LinearRegression()\n",
    "trained_linreg.fit(X_train, y_train)"
   ]
  },
  {
   "cell_type": "code",
   "execution_count": 66,
   "metadata": {},
   "outputs": [
    {
     "data": {
      "text/plain": [
       "Text(0,0.5,'Frequency')"
      ]
     },
     "execution_count": 66,
     "metadata": {},
     "output_type": "execute_result"
    },
    {
     "data": {
      "image/png": "[encoded data removed]",
      "text/plain": [
       "<matplotlib.figure.Figure at 0x209825f65f8>"
      ]
     },
     "metadata": {},
     "output_type": "display_data"
    }
   ],
   "source": [
    "# Plot the predicted train and test values on histograms to observe the distribution\n",
    "\n",
    "# Assign the predicted values to a variable\n",
    "predicted_train_values = trained_linreg.predict(X_train)\n",
    "predicted_test_values = trained_linreg.predict(X_test)\n",
    "\n",
    "# Plot the histograms\n",
    "fig, (ax1, ax2) = plt.subplots(ncols=2, figsize=(12,5))\n",
    "\n",
    "# Plot the trained values\n",
    "ax1.hist(predicted_train_values, bins=1000)\n",
    "ax1.set_title('Trained Data')\n",
    "ax1.set_xlabel('Predicted Items Sold Monthly')\n",
    "ax1.set_ylabel('Frequency')\n",
    "\n",
    "# Plot the test values\n",
    "ax2.hist(predicted_test_values, bins=200)\n",
    "ax2.set_title('Test Data')\n",
    "ax2.set_xlabel('Predicted Items Sold Monthly')\n",
    "ax2.set_ylabel('Frequency')\n",
    "\n",
    "# Both data are right skewed"
   ]
  },
  {
   "cell_type": "code",
   "execution_count": 67,
   "metadata": {},
   "outputs": [
    {
     "data": {
      "text/plain": [
       "Text(0,0.5,'Predicted Monthly Items Sold')"
      ]
     },
     "execution_count": 67,
     "metadata": {},
     "output_type": "execute_result"
    },
    {
     "data": {
      "image/png": "[encoded data removed]",
      "text/plain": [
       "<matplotlib.figure.Figure at 0x2098002be10>"
      ]
     },
     "metadata": {},
     "output_type": "display_data"
    }
   ],
   "source": [
    "# Plot the original count vs. the predicted count of the training and test data on a scatter plot\n",
    "\n",
    "# Plot the scatterplots\n",
    "fig, (ax1, ax2) = plt.subplots(ncols=2, figsize=(12,5))\n",
    "\n",
    "# Plot the trained values\n",
    "sns.regplot(x=y_train, y=predicted_train_values, ax=ax1)\n",
    "ax1.set_title('Trained Data')\n",
    "ax1.set_xlabel('Original Monthly Items Sold')\n",
    "ax1.set_ylabel('Predicted Monthly Items Sold')\n",
    "\n",
    "# Plot the test values\n",
    "sns.regplot(x=y_test, y=predicted_test_values, ax=ax2, color='r')\n",
    "ax2.set_title('Test Data')\n",
    "ax2.set_xlabel('Original Monthly Items Sold')\n",
    "ax2.set_ylabel('Predicted Monthly Items Sold')\n",
    "\n",
    "# It appears that our model has a tendency to underestimate. There appears to be a large amount of negative predictions"
   ]
  },
  {
   "cell_type": "code",
   "execution_count": 58,
   "metadata": {},
   "outputs": [
    {
     "name": "stdout",
     "output_type": "stream",
     "text": [
      "Training Data    \n",
      "Root Mean Squared Error: 46.8957748491331\n",
      "R^2: 0.5747950919423203\n"
     ]
    }
   ],
   "source": [
    "# Let's look at the RMSE and R^2 value for the model with the training data\n",
    "trainRMSE = np.sqrt(mean_squared_error(y_train, predicted_train_values))\n",
    "\n",
    "print ('Training Data    \\nRoot Mean Squared Error:', trainRMSE)\n",
    "print ('R^2:', trained_linreg.score(X_train, y_train))"
   ]
  },
  {
   "cell_type": "code",
   "execution_count": 59,
   "metadata": {},
   "outputs": [
    {
     "name": "stdout",
     "output_type": "stream",
     "text": [
      "Test Data    \n",
      "Root Mean Squared Error: 47.46238082613617\n",
      "R^2: 0.550821114939615\n"
     ]
    }
   ],
   "source": [
    "# Let's look at the RMSE and R^2 value for the model with the test data\n",
    "testRMSE = np.sqrt(mean_squared_error(y_test, predicted_test_values))\n",
    "\n",
    "print ('Test Data    \\nRoot Mean Squared Error:', testRMSE)\n",
    "print ('R^2:', trained_linreg.score(X_test, y_test))"
   ]
  },
  {
   "cell_type": "code",
   "execution_count": 40,
   "metadata": {
    "scrolled": true
   },
   "outputs": [
    {
     "name": "stdout",
     "output_type": "stream",
     "text": [
      "Baseline Data    \n",
      "Root Mean Squared Error: 68.58648153798215\n",
      "R^2: 0.5028216395497118\n"
     ]
    }
   ],
   "source": [
    "# Let's look at the RMSE and R^2 value for the model using the baseline data at Jul 2014\n",
    "baselinePrediction = trained_linreg.predict(baselineX)\n",
    "baselineRMSE = np.sqrt(mean_squared_error(baseliney, baselinePrediction))\n",
    "\n",
    "print ('Baseline Data    \\nRoot Mean Squared Error:', baselineRMSE)\n",
    "print ('R^2:', trained_linreg.score(baselineX, baseliney))"
   ]
  },
  {
   "cell_type": "code",
   "execution_count": 7,
   "metadata": {},
   "outputs": [
    {
     "data": {
      "text/html": [
       "<div>\n",
       "<style scoped>\n",
       "    .dataframe tbody tr th:only-of-type {\n",
       "        vertical-align: middle;\n",
       "    }\n",
       "\n",
       "    .dataframe tbody tr th {\n",
       "        vertical-align: top;\n",
       "    }\n",
       "\n",
       "    .dataframe thead th {\n",
       "        text-align: right;\n",
       "    }\n",
       "</style>\n",
       "<table border=\"1\" class=\"dataframe\">\n",
       "  <thead>\n",
       "    <tr style=\"text-align: right;\">\n",
       "      <th></th>\n",
       "      <th>shop_id</th>\n",
       "      <th>item_cnt_day</th>\n",
       "      <th>item_category_id</th>\n",
       "      <th>month</th>\n",
       "      <th>year</th>\n",
       "      <th>Shop Group</th>\n",
       "      <th>Item Category Group</th>\n",
       "      <th>item_group</th>\n",
       "    </tr>\n",
       "  </thead>\n",
       "  <tbody>\n",
       "    <tr>\n",
       "      <th>count</th>\n",
       "      <td>2.936219e+06</td>\n",
       "      <td>2.936219e+06</td>\n",
       "      <td>2.936219e+06</td>\n",
       "      <td>2.936219e+06</td>\n",
       "      <td>2.936219e+06</td>\n",
       "      <td>2.936219e+06</td>\n",
       "      <td>2.936219e+06</td>\n",
       "      <td>2.936219e+06</td>\n",
       "    </tr>\n",
       "    <tr>\n",
       "      <th>mean</th>\n",
       "      <td>3.300149e+01</td>\n",
       "      <td>1.242608e+00</td>\n",
       "      <td>4.000224e+01</td>\n",
       "      <td>6.248429e+00</td>\n",
       "      <td>2.013777e+03</td>\n",
       "      <td>1.465887e+01</td>\n",
       "      <td>2.834383e+01</td>\n",
       "      <td>1.065013e+03</td>\n",
       "    </tr>\n",
       "    <tr>\n",
       "      <th>std</th>\n",
       "      <td>1.622598e+01</td>\n",
       "      <td>2.618672e+00</td>\n",
       "      <td>1.710095e+01</td>\n",
       "      <td>3.536580e+00</td>\n",
       "      <td>7.684798e-01</td>\n",
       "      <td>1.760315e+01</td>\n",
       "      <td>1.882903e+01</td>\n",
       "      <td>3.476643e+03</td>\n",
       "    </tr>\n",
       "    <tr>\n",
       "      <th>min</th>\n",
       "      <td>0.000000e+00</td>\n",
       "      <td>-2.200000e+01</td>\n",
       "      <td>0.000000e+00</td>\n",
       "      <td>1.000000e+00</td>\n",
       "      <td>2.013000e+03</td>\n",
       "      <td>0.000000e+00</td>\n",
       "      <td>0.000000e+00</td>\n",
       "      <td>-1.000000e+00</td>\n",
       "    </tr>\n",
       "    <tr>\n",
       "      <th>25%</th>\n",
       "      <td>2.200000e+01</td>\n",
       "      <td>1.000000e+00</td>\n",
       "      <td>2.800000e+01</td>\n",
       "      <td>3.000000e+00</td>\n",
       "      <td>2.013000e+03</td>\n",
       "      <td>3.000000e+00</td>\n",
       "      <td>5.000000e+00</td>\n",
       "      <td>1.200000e+01</td>\n",
       "    </tr>\n",
       "    <tr>\n",
       "      <th>50%</th>\n",
       "      <td>3.100000e+01</td>\n",
       "      <td>1.000000e+00</td>\n",
       "      <td>4.000000e+01</td>\n",
       "      <td>6.000000e+00</td>\n",
       "      <td>2.014000e+03</td>\n",
       "      <td>4.000000e+00</td>\n",
       "      <td>3.000000e+01</td>\n",
       "      <td>1.300000e+01</td>\n",
       "    </tr>\n",
       "    <tr>\n",
       "      <th>75%</th>\n",
       "      <td>4.700000e+01</td>\n",
       "      <td>1.000000e+00</td>\n",
       "      <td>5.500000e+01</td>\n",
       "      <td>9.000000e+00</td>\n",
       "      <td>2.014000e+03</td>\n",
       "      <td>2.800000e+01</td>\n",
       "      <td>4.000000e+01</td>\n",
       "      <td>1.700000e+01</td>\n",
       "    </tr>\n",
       "    <tr>\n",
       "      <th>max</th>\n",
       "      <td>5.900000e+01</td>\n",
       "      <td>2.169000e+03</td>\n",
       "      <td>8.300000e+01</td>\n",
       "      <td>1.200000e+01</td>\n",
       "      <td>2.015000e+03</td>\n",
       "      <td>5.700000e+01</td>\n",
       "      <td>7.100000e+01</td>\n",
       "      <td>2.208800e+04</td>\n",
       "    </tr>\n",
       "  </tbody>\n",
       "</table>\n",
       "</div>"
      ],
      "text/plain": [
       "            shop_id  item_cnt_day  item_category_id         month  \\\n",
       "count  2.936219e+06  2.936219e+06      2.936219e+06  2.936219e+06   \n",
       "mean   3.300149e+01  1.242608e+00      4.000224e+01  6.248429e+00   \n",
       "std    1.622598e+01  2.618672e+00      1.710095e+01  3.536580e+00   \n",
       "min    0.000000e+00 -2.200000e+01      0.000000e+00  1.000000e+00   \n",
       "25%    2.200000e+01  1.000000e+00      2.800000e+01  3.000000e+00   \n",
       "50%    3.100000e+01  1.000000e+00      4.000000e+01  6.000000e+00   \n",
       "75%    4.700000e+01  1.000000e+00      5.500000e+01  9.000000e+00   \n",
       "max    5.900000e+01  2.169000e+03      8.300000e+01  1.200000e+01   \n",
       "\n",
       "               year    Shop Group  Item Category Group    item_group  \n",
       "count  2.936219e+06  2.936219e+06         2.936219e+06  2.936219e+06  \n",
       "mean   2.013777e+03  1.465887e+01         2.834383e+01  1.065013e+03  \n",
       "std    7.684798e-01  1.760315e+01         1.882903e+01  3.476643e+03  \n",
       "min    2.013000e+03  0.000000e+00         0.000000e+00 -1.000000e+00  \n",
       "25%    2.013000e+03  3.000000e+00         5.000000e+00  1.200000e+01  \n",
       "50%    2.014000e+03  4.000000e+00         3.000000e+01  1.300000e+01  \n",
       "75%    2.014000e+03  2.800000e+01         4.000000e+01  1.700000e+01  \n",
       "max    2.015000e+03  5.700000e+01         7.100000e+01  2.208800e+04  "
      ]
     },
     "execution_count": 7,
     "metadata": {},
     "output_type": "execute_result"
    }
   ],
   "source": [
    "final_df.describe()"
   ]
  },
  {
   "cell_type": "code",
   "execution_count": 8,
   "metadata": {},
   "outputs": [
    {
     "data": {
      "text/html": [
       "<div>\n",
       "<style scoped>\n",
       "    .dataframe tbody tr th:only-of-type {\n",
       "        vertical-align: middle;\n",
       "    }\n",
       "\n",
       "    .dataframe tbody tr th {\n",
       "        vertical-align: top;\n",
       "    }\n",
       "\n",
       "    .dataframe thead th {\n",
       "        text-align: right;\n",
       "    }\n",
       "</style>\n",
       "<table border=\"1\" class=\"dataframe\">\n",
       "  <thead>\n",
       "    <tr style=\"text-align: right;\">\n",
       "      <th></th>\n",
       "      <th>shop_id</th>\n",
       "      <th>item_id</th>\n",
       "      <th>item_category_id</th>\n",
       "      <th>Item Category Group</th>\n",
       "      <th>Shop Group</th>\n",
       "      <th>item_cnt</th>\n",
       "      <th>item_group</th>\n",
       "      <th>year</th>\n",
       "      <th>month</th>\n",
       "    </tr>\n",
       "  </thead>\n",
       "  <tbody>\n",
       "    <tr>\n",
       "      <th>count</th>\n",
       "      <td>214200.000000</td>\n",
       "      <td>214200.000000</td>\n",
       "      <td>214200.000000</td>\n",
       "      <td>214200.000000</td>\n",
       "      <td>214200.000000</td>\n",
       "      <td>214200.000000</td>\n",
       "      <td>214200.000000</td>\n",
       "      <td>214200.0</td>\n",
       "      <td>214200.0</td>\n",
       "    </tr>\n",
       "    <tr>\n",
       "      <th>mean</th>\n",
       "      <td>31.642857</td>\n",
       "      <td>11019.398627</td>\n",
       "      <td>46.309608</td>\n",
       "      <td>22.908824</td>\n",
       "      <td>6.476190</td>\n",
       "      <td>377.164510</td>\n",
       "      <td>130.516275</td>\n",
       "      <td>2015.0</td>\n",
       "      <td>11.0</td>\n",
       "    </tr>\n",
       "    <tr>\n",
       "      <th>std</th>\n",
       "      <td>17.561933</td>\n",
       "      <td>6252.644590</td>\n",
       "      <td>16.716581</td>\n",
       "      <td>21.400172</td>\n",
       "      <td>11.846743</td>\n",
       "      <td>2766.478323</td>\n",
       "      <td>1179.420647</td>\n",
       "      <td>0.0</td>\n",
       "      <td>0.0</td>\n",
       "    </tr>\n",
       "    <tr>\n",
       "      <th>min</th>\n",
       "      <td>2.000000</td>\n",
       "      <td>30.000000</td>\n",
       "      <td>0.000000</td>\n",
       "      <td>0.000000</td>\n",
       "      <td>0.000000</td>\n",
       "      <td>1.000000</td>\n",
       "      <td>0.000000</td>\n",
       "      <td>2015.0</td>\n",
       "      <td>11.0</td>\n",
       "    </tr>\n",
       "    <tr>\n",
       "      <th>25%</th>\n",
       "      <td>16.000000</td>\n",
       "      <td>5381.500000</td>\n",
       "      <td>37.000000</td>\n",
       "      <td>4.000000</td>\n",
       "      <td>2.000000</td>\n",
       "      <td>21.000000</td>\n",
       "      <td>2.000000</td>\n",
       "      <td>2015.0</td>\n",
       "      <td>11.0</td>\n",
       "    </tr>\n",
       "    <tr>\n",
       "      <th>50%</th>\n",
       "      <td>34.500000</td>\n",
       "      <td>11203.000000</td>\n",
       "      <td>43.000000</td>\n",
       "      <td>19.000000</td>\n",
       "      <td>3.000000</td>\n",
       "      <td>103.000000</td>\n",
       "      <td>10.000000</td>\n",
       "      <td>2015.0</td>\n",
       "      <td>11.0</td>\n",
       "    </tr>\n",
       "    <tr>\n",
       "      <th>75%</th>\n",
       "      <td>47.000000</td>\n",
       "      <td>16071.500000</td>\n",
       "      <td>58.000000</td>\n",
       "      <td>40.000000</td>\n",
       "      <td>4.000000</td>\n",
       "      <td>319.000000</td>\n",
       "      <td>12.000000</td>\n",
       "      <td>2015.0</td>\n",
       "      <td>11.0</td>\n",
       "    </tr>\n",
       "    <tr>\n",
       "      <th>max</th>\n",
       "      <td>59.000000</td>\n",
       "      <td>22167.000000</td>\n",
       "      <td>83.000000</td>\n",
       "      <td>71.000000</td>\n",
       "      <td>57.000000</td>\n",
       "      <td>187642.000000</td>\n",
       "      <td>22088.000000</td>\n",
       "      <td>2015.0</td>\n",
       "      <td>11.0</td>\n",
       "    </tr>\n",
       "  </tbody>\n",
       "</table>\n",
       "</div>"
      ],
      "text/plain": [
       "             shop_id        item_id  item_category_id  Item Category Group  \\\n",
       "count  214200.000000  214200.000000     214200.000000        214200.000000   \n",
       "mean       31.642857   11019.398627         46.309608            22.908824   \n",
       "std        17.561933    6252.644590         16.716581            21.400172   \n",
       "min         2.000000      30.000000          0.000000             0.000000   \n",
       "25%        16.000000    5381.500000         37.000000             4.000000   \n",
       "50%        34.500000   11203.000000         43.000000            19.000000   \n",
       "75%        47.000000   16071.500000         58.000000            40.000000   \n",
       "max        59.000000   22167.000000         83.000000            71.000000   \n",
       "\n",
       "          Shop Group       item_cnt     item_group      year     month  \n",
       "count  214200.000000  214200.000000  214200.000000  214200.0  214200.0  \n",
       "mean        6.476190     377.164510     130.516275    2015.0      11.0  \n",
       "std        11.846743    2766.478323    1179.420647       0.0       0.0  \n",
       "min         0.000000       1.000000       0.000000    2015.0      11.0  \n",
       "25%         2.000000      21.000000       2.000000    2015.0      11.0  \n",
       "50%         3.000000     103.000000      10.000000    2015.0      11.0  \n",
       "75%         4.000000     319.000000      12.000000    2015.0      11.0  \n",
       "max        57.000000  187642.000000   22088.000000    2015.0      11.0  "
      ]
     },
     "execution_count": 8,
     "metadata": {},
     "output_type": "execute_result"
    }
   ],
   "source": [
    "final_test.describe()"
   ]
  },
  {
   "cell_type": "code",
   "execution_count": 25,
   "metadata": {},
   "outputs": [],
   "source": [
    "# For the model with grouped shop and item category\n",
    "# test_df = final_test[['year', 'month', 'Shop Group', 'Item Category Group']]\n",
    "\n",
    "# For the model with only grouped item category\n",
    "# test_df = final_test[['year', 'month', 'shop_id', 'Item Category Group']]\n",
    "\n",
    "# For the model with no groups\n",
    "# test_df = final_test[['year', 'month', 'shop_id', 'item_category_id']]\n",
    "\n",
    "# For the model with grouped item ids\n",
    "test_df = final_test[['year', 'month', 'shop_id', 'item_group']]\n",
    "\n",
    "# For the model with grouped item ids and averaged months\n",
    "# test_df = final_test[['month', 'shop_id', 'item_group']]"
   ]
  },
  {
   "cell_type": "code",
   "execution_count": 26,
   "metadata": {},
   "outputs": [],
   "source": [
    "# Create the dummy variables and remove the original column from the test data\n",
    "for col in test_df:\n",
    "    group_dummies = pd.get_dummies(test_df[col]).rename(columns=lambda x: col + str(x))\n",
    "    test_df = test_df.join(group_dummies)\n",
    "    del test_df[col]\n",
    "    \n",
    "# Add columns to the test data to use for prediction\n",
    "for i in X_train:\n",
    "    if i not in test_df:\n",
    "        test_df[i] = 0\n",
    "        \n",
    "# Rearrange the columns\n",
    "test_df = test_df[X_train.columns]"
   ]
  },
  {
   "cell_type": "code",
   "execution_count": null,
   "metadata": {},
   "outputs": [],
   "source": [
    "# Make the prediction for the double group and export it\n",
    "# twoGroup = trained_linreg.predict(test_df)\n",
    "# doubleGroup = pd.DataFrame(twoGroup, columns=['item_cnt_month'])\n",
    "# doubleGroup.to_csv('Double_group_prediction.csv')\n",
    "\n",
    "\n",
    "# Make a prediction for the item category group and export it\n",
    "# singleGroup = trained_linreg.predict(test_df)\n",
    "# oneGroup = pd.DataFrame(singleGroup, columns=['item_cnt_month'])\n",
    "# oneGroup.to_csv('single_group_prediction.csv')\n",
    "\n",
    "\n",
    "# Make a prediction for the no groups and export it\n",
    "# noneGroup = trained_linreg.predict(test_df)\n",
    "# noGroup = pd.DataFrame(noneGroup, columns=['item_cnt_month'])\n",
    "# noGroup.to_csv('no_group_prediction.csv')\n",
    "\n",
    "\n",
    "# Make a prediction for the grouped item_id and export it \n",
    "itemGroups = trained_linreg.predict(test_df)\n",
    "itemID = pd.DataFrame(itemGroups, columns=['item_cnt_month'])\n",
    "itemID.to_csv('group_itemID_prediction.csv')\n",
    "\n",
    "\n",
    "# Make a prediction for grouped item_id and averaged months and export it\n",
    "# avgMonth = trained_linreg.predict(test_df)\n",
    "# avgMonth_itemID = pd.DataFrame(avgMonth, columns=['item_cnt_month'])\n",
    "# avgMonth_itemID.to_csv('avgMonth_itemID_prediction.csv')"
   ]
  }
 ],
 "metadata": {
  "kernelspec": {
   "display_name": "Python 3",
   "language": "python",
   "name": "python3"
  },
  "language_info": {
   "codemirror_mode": {
    "name": "ipython",
    "version": 3
   },
   "file_extension": ".py",
   "mimetype": "text/x-python",
   "name": "python",
   "nbconvert_exporter": "python",
   "pygments_lexer": "ipython3",
   "version": "3.6.4"
  }
 },
 "nbformat": 4,
 "nbformat_minor": 2
}
