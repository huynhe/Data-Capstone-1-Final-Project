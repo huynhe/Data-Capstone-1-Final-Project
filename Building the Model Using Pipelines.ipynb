{
 "cells": [
  {
   "cell_type": "code",
   "execution_count": 1,
   "metadata": {},
   "outputs": [],
   "source": [
    "# Import the libraries for data visualization\n",
    "import pandas as pd\n",
    "import numpy as np\n",
    "import matplotlib.pyplot as plt\n",
    "import seaborn as sns\n",
    "\n",
    "# Import the Pipeline\n",
    "from sklearn.pipeline import Pipeline\n",
    "\n",
    "# Import the OneHotEncoder to convert all the categorical columns\n",
    "from sklearn.preprocessing import OneHotEncoder\n",
    "\n",
    "# Import the libraries for bulding the model\n",
    "from sklearn.linear_model import LinearRegression\n",
    "\n",
    "# Import the libraries for testing and metric measurements\n",
    "from sklearn.metrics import mean_squared_error\n",
    "from sklearn.model_selection import train_test_split"
   ]
  },
  {
   "cell_type": "code",
   "execution_count": 2,
   "metadata": {},
   "outputs": [
    {
     "name": "stderr",
     "output_type": "stream",
     "text": [
      "C:\\Users\\Eric\\Anaconda3\\lib\\site-packages\\numpy\\lib\\arraysetops.py:466: FutureWarning: elementwise comparison failed; returning scalar instead, but in the future will perform elementwise comparison\n",
      "  mask |= (ar1 == a)\n"
     ]
    }
   ],
   "source": [
    "# Import the final working data\n",
    "final_df = pd.read_csv('final_data.csv', index_col = 0)\n",
    "\n",
    "# Import the final test data\n",
    "final_test = pd.read_csv('final_test_data.csv',index_col = 0)"
   ]
  },
  {
   "cell_type": "code",
   "execution_count": 3,
   "metadata": {
    "scrolled": true
   },
   "outputs": [
    {
     "name": "stdout",
     "output_type": "stream",
     "text": [
      "<class 'pandas.core.frame.DataFrame'>\n",
      "Int64Index: 2936211 entries, 0 to 2936210\n",
      "Data columns (total 11 columns):\n",
      "date                   object\n",
      "date_block_num         int64\n",
      "shop_id                int64\n",
      "item_id                int64\n",
      "item_price             float64\n",
      "item_cnt_day           float64\n",
      "item_category_id       int64\n",
      "month                  int64\n",
      "year                   int64\n",
      "Shop Group             int64\n",
      "Item Category Group    int64\n",
      "dtypes: float64(2), int64(8), object(1)\n",
      "memory usage: 268.8+ MB\n"
     ]
    }
   ],
   "source": [
    "final_df.info()"
   ]
  },
  {
   "cell_type": "code",
   "execution_count": 4,
   "metadata": {},
   "outputs": [],
   "source": [
    "# Define the categorical columns of interest\n",
    "CATEGORICAL = ['shop_id', 'item_id', 'item_category_id', 'month', 'year',\n",
    "               'Shop Group', 'Item Category Group']"
   ]
  },
  {
   "cell_type": "code",
   "execution_count": 5,
   "metadata": {},
   "outputs": [],
   "source": [
    "# Convert the categorical columns into the category datatype for faster computational time\n",
    "final_df[CATEGORICAL] = final_df[CATEGORICAL].apply(lambda x: x.astype('category'))"
   ]
  },
  {
   "cell_type": "code",
   "execution_count": 6,
   "metadata": {
    "scrolled": true
   },
   "outputs": [
    {
     "name": "stdout",
     "output_type": "stream",
     "text": [
      "<class 'pandas.core.frame.DataFrame'>\n",
      "Int64Index: 2936211 entries, 0 to 2936210\n",
      "Data columns (total 11 columns):\n",
      "date                   object\n",
      "date_block_num         int64\n",
      "shop_id                category\n",
      "item_id                category\n",
      "item_price             float64\n",
      "item_cnt_day           float64\n",
      "item_category_id       category\n",
      "month                  category\n",
      "year                   category\n",
      "Shop Group             category\n",
      "Item Category Group    category\n",
      "dtypes: category(7), float64(2), int64(1), object(1)\n",
      "memory usage: 135.2+ MB\n"
     ]
    }
   ],
   "source": [
    "final_df.info()"
   ]
  },
  {
   "cell_type": "code",
   "execution_count": 7,
   "metadata": {},
   "outputs": [],
   "source": [
    "# Define the variables of interest\n",
    "group_df = final_df[['shop_id', 'item_id', 'month', 'year', 'item_cnt_day']]\n",
    "\n",
    "# Split the data into X (variables) and y (target)\n",
    "X = group_df.drop('item_cnt_day', axis=1)\n",
    "y = group_df['item_cnt_day']\n",
    "\n",
    "# Split the data into training and test sets\n",
    "X_train, X_test, y_train, y_test = train_test_split(X, y, test_size=0.2, \n",
    "                                                    random_state=21, stratify=group_df['month'])"
   ]
  },
  {
   "cell_type": "code",
   "execution_count": 8,
   "metadata": {},
   "outputs": [],
   "source": [
    "# Initiate the linear regression classifier\n",
    "lrClassifier = LinearRegression()\n",
    "\n",
    "# Initiate the the OneHotEncoder\n",
    "encoder = OneHotEncoder()\n",
    "\n",
    "# Define the pipeline\n",
    "pipeline = Pipeline(steps=[\n",
    "    ('encoder', encoder), \n",
    "     ('lr', lrClassifier)])"
   ]
  },
  {
   "cell_type": "code",
   "execution_count": 9,
   "metadata": {},
   "outputs": [],
   "source": [
    "# Fit the pipeline with the training data\n",
    "lrModel = pipeline.fit(X_train, y_train)"
   ]
  },
  {
   "cell_type": "code",
   "execution_count": 10,
   "metadata": {},
   "outputs": [],
   "source": [
    "# Assign the predictions to variables\n",
    "predicted_train_values = lrModel.predict(X_train)\n",
    "predicted_test_values = lrModel.predict(X_test)"
   ]
  },
  {
   "cell_type": "code",
   "execution_count": 11,
   "metadata": {},
   "outputs": [
    {
     "name": "stdout",
     "output_type": "stream",
     "text": [
      "Training Data    \n",
      "Root Mean Squared Error: 2.5804664552462677\n",
      "R^2: 0.0777424299099232\n"
     ]
    }
   ],
   "source": [
    "# Let's look at the RMSE and R^2 value for the model with the training data\n",
    "trainRMSE = np.sqrt(mean_squared_error(y_train, predicted_train_values))\n",
    "\n",
    "print ('Training Data    \\nRoot Mean Squared Error:', trainRMSE)\n",
    "print ('R^2:', lrModel.score(X_train, y_train))"
   ]
  },
  {
   "cell_type": "code",
   "execution_count": 12,
   "metadata": {},
   "outputs": [
    {
     "name": "stdout",
     "output_type": "stream",
     "text": [
      "Test Data    \n",
      "Root Mean Squared Error: 2.196463345720754\n",
      "R^2: 0.10770182229461744\n"
     ]
    }
   ],
   "source": [
    "# Let's look at the RMSE and R^2 value for the model with the test data\n",
    "testRMSE = np.sqrt(mean_squared_error(y_test, predicted_test_values))\n",
    "\n",
    "print ('Test Data    \\nRoot Mean Squared Error:', testRMSE)\n",
    "print ('R^2:', lrModel.score(X_test, y_test))"
   ]
  },
  {
   "cell_type": "code",
   "execution_count": 13,
   "metadata": {},
   "outputs": [],
   "source": [
    "# Restructure the test data for columns of interest\n",
    "final_test = final_test[['shop_id', 'item_id', 'month', 'year']]"
   ]
  },
  {
   "cell_type": "code",
   "execution_count": 14,
   "metadata": {},
   "outputs": [],
   "source": [
    "# Make a prediction with the pipeline model\n",
    "pipelineResult = lrModel.predict(final_test)\n",
    "pipeResult = pd.DataFrame(pipelineResult, columns=['item_cnt_month'])\n",
    "pipeResult.to_csv('pipelineResult.csv')"
   ]
  },
  {
   "cell_type": "code",
   "execution_count": null,
   "metadata": {},
   "outputs": [],
   "source": []
  }
 ],
 "metadata": {
  "kernelspec": {
   "display_name": "Python 3",
   "language": "python",
   "name": "python3"
  },
  "language_info": {
   "codemirror_mode": {
    "name": "ipython",
    "version": 3
   },
   "file_extension": ".py",
   "mimetype": "text/x-python",
   "name": "python",
   "nbconvert_exporter": "python",
   "pygments_lexer": "ipython3",
   "version": "3.6.4"
  }
 },
 "nbformat": 4,
 "nbformat_minor": 2
}
